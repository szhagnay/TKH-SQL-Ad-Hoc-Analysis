{
 "cells": [
  {
   "cell_type": "markdown",
   "id": "646c4e05",
   "metadata": {},
   "source": [
    "# Ad-Hoc Reporting\n",
    "\n",
    "Utilize your `sqlite3` and `pandas` knowledge to query your database and generate visualizations! \n",
    "\n",
    "After completing your report, answer the 4 analytical questions below. Remember that we expect comprehensive numerical detail! "
   ]
  },
  {
   "cell_type": "code",
   "execution_count": 61,
   "id": "bb47ec90",
   "metadata": {},
   "outputs": [],
   "source": [
    "import sqlite3\n",
    "\n",
    "import pandas as pd \n",
    "\n",
    "import seaborn as sns\n",
    "import matplotlib.pyplot as plt"
   ]
  },
  {
   "cell_type": "code",
   "execution_count": 62,
   "id": "c27a1dbe",
   "metadata": {},
   "outputs": [],
   "source": [
    "# TODO: Set up a connection the \"Market.db\" database\n",
    "conn = sqlite3.connect(\"db/Market.db\")\n",
    "\n",
    "# TODO: Set up the cursor\n",
    "cursor  = conn.cursor()"
   ]
  },
  {
   "cell_type": "markdown",
   "id": "bdda1f0a",
   "metadata": {},
   "source": [
    "### Question 1 : Total Products Less than €10\n",
    "\n",
    "How many products in our Products table cost less than 10 EUR?\n",
    "\n",
    "**Hint**: You can apply an aggregate function to an entire table."
   ]
  },
  {
   "cell_type": "code",
   "execution_count": 63,
   "id": "736830a8",
   "metadata": {},
   "outputs": [
    {
     "name": "stdout",
     "output_type": "stream",
     "text": [
      "[(11,)]\n"
     ]
    }
   ],
   "source": [
    "# TODO: Write a SQL query which will answer the question above.\n",
    "cursor.execute(\"\"\"\n",
    "SELECT COUNT(ProductName) FROM Products WHERE Price <10 ; \n",
    "\"\"\" )\n",
    "\n",
    "rows = cursor.fetchall()\n",
    "print(rows)"
   ]
  },
  {
   "cell_type": "markdown",
   "id": "a12866fc",
   "metadata": {},
   "source": [
    "### Question 2 : Most Frequent Country by Supplier\n",
    "\n",
    "What is the most common country of origin in our Suppliers table? Sort your output in descending order.\n",
    "\n",
    "**Hint**: `GROUP BY` can be used to calculate grouped aggregates."
   ]
  },
  {
   "cell_type": "code",
   "execution_count": 64,
   "id": "1e03d56e",
   "metadata": {},
   "outputs": [
    {
     "name": "stdout",
     "output_type": "stream",
     "text": [
      "[(4, 'USA'), (2, 'UK'), (2, 'Sweden'), (1, 'Spain'), (1, 'Singapore'), (1, 'Norway'), (1, 'Netherlands'), (2, 'Japan'), (2, 'Italy'), (3, 'Germany'), (3, 'France'), (1, 'Finland'), (1, 'Denmark'), (2, 'Canada'), (1, 'Brazil'), (2, 'Australia')]\n"
     ]
    }
   ],
   "source": [
    "# TODO: Write a SQL query which will answer the question above.\n",
    "cursor.execute(\"\"\"\n",
    "SELECT Count(SupplierID), Country FROM Suppliers GROUP BY (Country) ORDER BY Country DESC;\n",
    "\"\"\")\n",
    "\n",
    "# TODO: Fetch your list of tuples and print it out\n",
    "Nrow = cursor.fetchall()\n",
    "print(Nrow)"
   ]
  },
  {
   "cell_type": "code",
   "execution_count": 65,
   "id": "83f583d6",
   "metadata": {},
   "outputs": [
    {
     "data": {
      "text/html": [
       "<div>\n",
       "<style scoped>\n",
       "    .dataframe tbody tr th:only-of-type {\n",
       "        vertical-align: middle;\n",
       "    }\n",
       "\n",
       "    .dataframe tbody tr th {\n",
       "        vertical-align: top;\n",
       "    }\n",
       "\n",
       "    .dataframe thead th {\n",
       "        text-align: right;\n",
       "    }\n",
       "</style>\n",
       "<table border=\"1\" class=\"dataframe\">\n",
       "  <thead>\n",
       "    <tr style=\"text-align: right;\">\n",
       "      <th></th>\n",
       "      <th>Supplier Count</th>\n",
       "      <th>Country</th>\n",
       "    </tr>\n",
       "  </thead>\n",
       "  <tbody>\n",
       "    <tr>\n",
       "      <th>0</th>\n",
       "      <td>4</td>\n",
       "      <td>USA</td>\n",
       "    </tr>\n",
       "    <tr>\n",
       "      <th>1</th>\n",
       "      <td>2</td>\n",
       "      <td>UK</td>\n",
       "    </tr>\n",
       "    <tr>\n",
       "      <th>2</th>\n",
       "      <td>2</td>\n",
       "      <td>Sweden</td>\n",
       "    </tr>\n",
       "    <tr>\n",
       "      <th>3</th>\n",
       "      <td>1</td>\n",
       "      <td>Spain</td>\n",
       "    </tr>\n",
       "    <tr>\n",
       "      <th>4</th>\n",
       "      <td>1</td>\n",
       "      <td>Singapore</td>\n",
       "    </tr>\n",
       "    <tr>\n",
       "      <th>5</th>\n",
       "      <td>1</td>\n",
       "      <td>Norway</td>\n",
       "    </tr>\n",
       "    <tr>\n",
       "      <th>6</th>\n",
       "      <td>1</td>\n",
       "      <td>Netherlands</td>\n",
       "    </tr>\n",
       "    <tr>\n",
       "      <th>7</th>\n",
       "      <td>2</td>\n",
       "      <td>Japan</td>\n",
       "    </tr>\n",
       "    <tr>\n",
       "      <th>8</th>\n",
       "      <td>2</td>\n",
       "      <td>Italy</td>\n",
       "    </tr>\n",
       "    <tr>\n",
       "      <th>9</th>\n",
       "      <td>3</td>\n",
       "      <td>Germany</td>\n",
       "    </tr>\n",
       "    <tr>\n",
       "      <th>10</th>\n",
       "      <td>3</td>\n",
       "      <td>France</td>\n",
       "    </tr>\n",
       "    <tr>\n",
       "      <th>11</th>\n",
       "      <td>1</td>\n",
       "      <td>Finland</td>\n",
       "    </tr>\n",
       "    <tr>\n",
       "      <th>12</th>\n",
       "      <td>1</td>\n",
       "      <td>Denmark</td>\n",
       "    </tr>\n",
       "    <tr>\n",
       "      <th>13</th>\n",
       "      <td>2</td>\n",
       "      <td>Canada</td>\n",
       "    </tr>\n",
       "    <tr>\n",
       "      <th>14</th>\n",
       "      <td>1</td>\n",
       "      <td>Brazil</td>\n",
       "    </tr>\n",
       "    <tr>\n",
       "      <th>15</th>\n",
       "      <td>2</td>\n",
       "      <td>Australia</td>\n",
       "    </tr>\n",
       "  </tbody>\n",
       "</table>\n",
       "</div>"
      ],
      "text/plain": [
       "    Supplier Count      Country\n",
       "0                4          USA\n",
       "1                2           UK\n",
       "2                2       Sweden\n",
       "3                1        Spain\n",
       "4                1    Singapore\n",
       "5                1       Norway\n",
       "6                1  Netherlands\n",
       "7                2        Japan\n",
       "8                2        Italy\n",
       "9                3      Germany\n",
       "10               3       France\n",
       "11               1      Finland\n",
       "12               1      Denmark\n",
       "13               2       Canada\n",
       "14               1       Brazil\n",
       "15               2    Australia"
      ]
     },
     "execution_count": 65,
     "metadata": {},
     "output_type": "execute_result"
    }
   ],
   "source": [
    "# TODO: Convert your list of tuples to a dataframe\n",
    "df = pd.DataFrame(Nrow, columns=['Supplier Count', 'Country'])\n",
    "\n",
    "# TODO: Generate a visualization on this dataframe\n",
    "df.head(30)"
   ]
  },
  {
   "cell_type": "markdown",
   "id": "ed35c985",
   "metadata": {},
   "source": [
    "### Question 3 : Most Frequent Country by Customer\n",
    "\n",
    "What is the most common country of origin in our Customers table? Sort your output in descending order.\n",
    "\n",
    "**Hint**: `GROUP BY` can be used to calculate grouped aggregates."
   ]
  },
  {
   "cell_type": "code",
   "execution_count": 96,
   "id": "cc5f2ac6",
   "metadata": {},
   "outputs": [
    {
     "name": "stdout",
     "output_type": "stream",
     "text": [
      "[(13, 'USA'), (11, 'Germany'), (11, 'France'), (9, 'Brazil'), (7, 'UK'), (5, 'Spain'), (5, 'Mexico'), (4, 'Venezuela'), (3, 'Italy'), (3, 'Canada'), (3, 'Argentina'), (2, 'Switzerland'), (2, 'Sweden'), (2, 'Portugal'), (2, 'Finland'), (2, 'Denmark'), (2, 'Belgium'), (2, 'Austria'), (1, 'Poland'), (1, 'Norway'), (1, 'Ireland')]\n"
     ]
    }
   ],
   "source": [
    "# TODO: Write a SQL query which will answer the question above.\n",
    "cursor.execute(\"\"\"\n",
    "SELECT count(Country), Country FROM Customers GROUP BY Country ORDER BY COUNT(Country) DESC;\n",
    "\"\"\")\n",
    "\n",
    "# TODO: Fetch your list of tuples and print it out\n",
    "Arow = cursor.fetchall()\n",
    "print(Arow)"
   ]
  },
  {
   "cell_type": "code",
   "execution_count": 97,
   "id": "b277ab0d",
   "metadata": {},
   "outputs": [
    {
     "data": {
      "text/html": [
       "<div>\n",
       "<style scoped>\n",
       "    .dataframe tbody tr th:only-of-type {\n",
       "        vertical-align: middle;\n",
       "    }\n",
       "\n",
       "    .dataframe tbody tr th {\n",
       "        vertical-align: top;\n",
       "    }\n",
       "\n",
       "    .dataframe thead th {\n",
       "        text-align: right;\n",
       "    }\n",
       "</style>\n",
       "<table border=\"1\" class=\"dataframe\">\n",
       "  <thead>\n",
       "    <tr style=\"text-align: right;\">\n",
       "      <th></th>\n",
       "      <th>Country Count</th>\n",
       "      <th>Country Name</th>\n",
       "    </tr>\n",
       "  </thead>\n",
       "  <tbody>\n",
       "    <tr>\n",
       "      <th>0</th>\n",
       "      <td>13</td>\n",
       "      <td>USA</td>\n",
       "    </tr>\n",
       "    <tr>\n",
       "      <th>1</th>\n",
       "      <td>11</td>\n",
       "      <td>Germany</td>\n",
       "    </tr>\n",
       "    <tr>\n",
       "      <th>2</th>\n",
       "      <td>11</td>\n",
       "      <td>France</td>\n",
       "    </tr>\n",
       "    <tr>\n",
       "      <th>3</th>\n",
       "      <td>9</td>\n",
       "      <td>Brazil</td>\n",
       "    </tr>\n",
       "    <tr>\n",
       "      <th>4</th>\n",
       "      <td>7</td>\n",
       "      <td>UK</td>\n",
       "    </tr>\n",
       "    <tr>\n",
       "      <th>5</th>\n",
       "      <td>5</td>\n",
       "      <td>Spain</td>\n",
       "    </tr>\n",
       "    <tr>\n",
       "      <th>6</th>\n",
       "      <td>5</td>\n",
       "      <td>Mexico</td>\n",
       "    </tr>\n",
       "    <tr>\n",
       "      <th>7</th>\n",
       "      <td>4</td>\n",
       "      <td>Venezuela</td>\n",
       "    </tr>\n",
       "    <tr>\n",
       "      <th>8</th>\n",
       "      <td>3</td>\n",
       "      <td>Italy</td>\n",
       "    </tr>\n",
       "    <tr>\n",
       "      <th>9</th>\n",
       "      <td>3</td>\n",
       "      <td>Canada</td>\n",
       "    </tr>\n",
       "    <tr>\n",
       "      <th>10</th>\n",
       "      <td>3</td>\n",
       "      <td>Argentina</td>\n",
       "    </tr>\n",
       "    <tr>\n",
       "      <th>11</th>\n",
       "      <td>2</td>\n",
       "      <td>Switzerland</td>\n",
       "    </tr>\n",
       "    <tr>\n",
       "      <th>12</th>\n",
       "      <td>2</td>\n",
       "      <td>Sweden</td>\n",
       "    </tr>\n",
       "    <tr>\n",
       "      <th>13</th>\n",
       "      <td>2</td>\n",
       "      <td>Portugal</td>\n",
       "    </tr>\n",
       "    <tr>\n",
       "      <th>14</th>\n",
       "      <td>2</td>\n",
       "      <td>Finland</td>\n",
       "    </tr>\n",
       "    <tr>\n",
       "      <th>15</th>\n",
       "      <td>2</td>\n",
       "      <td>Denmark</td>\n",
       "    </tr>\n",
       "    <tr>\n",
       "      <th>16</th>\n",
       "      <td>2</td>\n",
       "      <td>Belgium</td>\n",
       "    </tr>\n",
       "    <tr>\n",
       "      <th>17</th>\n",
       "      <td>2</td>\n",
       "      <td>Austria</td>\n",
       "    </tr>\n",
       "    <tr>\n",
       "      <th>18</th>\n",
       "      <td>1</td>\n",
       "      <td>Poland</td>\n",
       "    </tr>\n",
       "    <tr>\n",
       "      <th>19</th>\n",
       "      <td>1</td>\n",
       "      <td>Norway</td>\n",
       "    </tr>\n",
       "    <tr>\n",
       "      <th>20</th>\n",
       "      <td>1</td>\n",
       "      <td>Ireland</td>\n",
       "    </tr>\n",
       "  </tbody>\n",
       "</table>\n",
       "</div>"
      ],
      "text/plain": [
       "    Country Count Country Name\n",
       "0              13          USA\n",
       "1              11      Germany\n",
       "2              11       France\n",
       "3               9       Brazil\n",
       "4               7           UK\n",
       "5               5        Spain\n",
       "6               5       Mexico\n",
       "7               4    Venezuela\n",
       "8               3        Italy\n",
       "9               3       Canada\n",
       "10              3    Argentina\n",
       "11              2  Switzerland\n",
       "12              2       Sweden\n",
       "13              2     Portugal\n",
       "14              2      Finland\n",
       "15              2      Denmark\n",
       "16              2      Belgium\n",
       "17              2      Austria\n",
       "18              1       Poland\n",
       "19              1       Norway\n",
       "20              1      Ireland"
      ]
     },
     "execution_count": 97,
     "metadata": {},
     "output_type": "execute_result"
    }
   ],
   "source": [
    "# TODO: Convert your list of tuples to a dataframe\n",
    "df = pd.DataFrame(Arow, columns=['Country Count', 'Country Name'])\n",
    "\n",
    "# TODO: Generate a visualization on this dataframe\n",
    "df.head(30)"
   ]
  },
  {
   "cell_type": "markdown",
   "id": "6ff142e3",
   "metadata": {},
   "source": [
    "### Question 4 : Least Popular Products by Quantity\n",
    "\n",
    "What are the least popular products by order quantity? Limit your output to the bottom 20 products. Sort this table in ascending order and be sure to include the product name in your output and visualizations.\n",
    "\n",
    "**Hint**: You will have to perform a join to calculate this answer."
   ]
  },
  {
   "cell_type": "code",
   "execution_count": null,
   "id": "0d6d187c",
   "metadata": {},
   "outputs": [
    {
     "name": "stdout",
     "output_type": "stream",
     "text": [
      "[(2, 'Boston Crab Meat'), (3, 'Chais'), (4, \"Chef Anton's Cajun Seasoning\"), (2, 'Côte de Blaye'), (1, 'Escargots de Bourgogne'), (3, 'Geitost'), (2, 'Gnocchi di nonna Alice'), (3, 'Gorgonzola Telino'), (3, \"Grandma's Boysenberry Spread\"), (1, 'Guaraná Fantástica'), (2, \"Gustaf's Knäckebröd\"), (3, 'Inlagd Sill'), (3, 'Konbu'), (3, 'Manjimup Dried Apples'), (3, 'Maxilaku'), (3, 'Mishi Kobe Niku'), (1, 'Nord-Ost Matjeshering'), (3, 'NuNuCa Nuß-Nougat-Creme'), (5, 'Pavlova'), (2, 'Queso Cabrales'), (2, 'Raclette Courdavault'), (5, 'Rössle Sauerkraut'), (2, 'Røgede sild'), (3, 'Sasquatch Ale'), (3, 'Singaporean Hokkien Fried Mee'), (2, \"Sirop d'érable\"), (4, 'Teatime Chocolate Biscuits'), (2, 'Tourtière'), (2, 'Zaanse koeken')]\n"
     ]
    }
   ],
   "source": [
    "# TODO: Write a SQL query which will answer the question above.\n",
    "# Least products by order\n",
    "cursor.execute(\"\"\"\n",
    "SELECT count(ProductName), ProductName FROM Products GROUP BY SupplierID ORDER BY ProductName;\n",
    "\"\"\")\n",
    "\n",
    "# TODO: Fetch your list of tuples and print it out\n",
    "Brow = cursor.fetchall()\n",
    "print(Brow)"
   ]
  },
  {
   "cell_type": "code",
   "execution_count": 109,
   "id": "dea03e07",
   "metadata": {},
   "outputs": [
    {
     "data": {
      "text/html": [
       "<div>\n",
       "<style scoped>\n",
       "    .dataframe tbody tr th:only-of-type {\n",
       "        vertical-align: middle;\n",
       "    }\n",
       "\n",
       "    .dataframe tbody tr th {\n",
       "        vertical-align: top;\n",
       "    }\n",
       "\n",
       "    .dataframe thead th {\n",
       "        text-align: right;\n",
       "    }\n",
       "</style>\n",
       "<table border=\"1\" class=\"dataframe\">\n",
       "  <thead>\n",
       "    <tr style=\"text-align: right;\">\n",
       "      <th></th>\n",
       "      <th>Count</th>\n",
       "      <th>Product</th>\n",
       "    </tr>\n",
       "  </thead>\n",
       "  <tbody>\n",
       "    <tr>\n",
       "      <th>0</th>\n",
       "      <td>2</td>\n",
       "      <td>Boston Crab Meat</td>\n",
       "    </tr>\n",
       "    <tr>\n",
       "      <th>1</th>\n",
       "      <td>3</td>\n",
       "      <td>Chais</td>\n",
       "    </tr>\n",
       "    <tr>\n",
       "      <th>2</th>\n",
       "      <td>4</td>\n",
       "      <td>Chef Anton's Cajun Seasoning</td>\n",
       "    </tr>\n",
       "    <tr>\n",
       "      <th>3</th>\n",
       "      <td>2</td>\n",
       "      <td>Côte de Blaye</td>\n",
       "    </tr>\n",
       "    <tr>\n",
       "      <th>4</th>\n",
       "      <td>1</td>\n",
       "      <td>Escargots de Bourgogne</td>\n",
       "    </tr>\n",
       "    <tr>\n",
       "      <th>5</th>\n",
       "      <td>3</td>\n",
       "      <td>Geitost</td>\n",
       "    </tr>\n",
       "    <tr>\n",
       "      <th>6</th>\n",
       "      <td>2</td>\n",
       "      <td>Gnocchi di nonna Alice</td>\n",
       "    </tr>\n",
       "    <tr>\n",
       "      <th>7</th>\n",
       "      <td>3</td>\n",
       "      <td>Gorgonzola Telino</td>\n",
       "    </tr>\n",
       "    <tr>\n",
       "      <th>8</th>\n",
       "      <td>3</td>\n",
       "      <td>Grandma's Boysenberry Spread</td>\n",
       "    </tr>\n",
       "    <tr>\n",
       "      <th>9</th>\n",
       "      <td>1</td>\n",
       "      <td>Guaraná Fantástica</td>\n",
       "    </tr>\n",
       "    <tr>\n",
       "      <th>10</th>\n",
       "      <td>2</td>\n",
       "      <td>Gustaf's Knäckebröd</td>\n",
       "    </tr>\n",
       "    <tr>\n",
       "      <th>11</th>\n",
       "      <td>3</td>\n",
       "      <td>Inlagd Sill</td>\n",
       "    </tr>\n",
       "    <tr>\n",
       "      <th>12</th>\n",
       "      <td>3</td>\n",
       "      <td>Konbu</td>\n",
       "    </tr>\n",
       "    <tr>\n",
       "      <th>13</th>\n",
       "      <td>3</td>\n",
       "      <td>Manjimup Dried Apples</td>\n",
       "    </tr>\n",
       "    <tr>\n",
       "      <th>14</th>\n",
       "      <td>3</td>\n",
       "      <td>Maxilaku</td>\n",
       "    </tr>\n",
       "    <tr>\n",
       "      <th>15</th>\n",
       "      <td>3</td>\n",
       "      <td>Mishi Kobe Niku</td>\n",
       "    </tr>\n",
       "    <tr>\n",
       "      <th>16</th>\n",
       "      <td>1</td>\n",
       "      <td>Nord-Ost Matjeshering</td>\n",
       "    </tr>\n",
       "    <tr>\n",
       "      <th>17</th>\n",
       "      <td>3</td>\n",
       "      <td>NuNuCa Nuß-Nougat-Creme</td>\n",
       "    </tr>\n",
       "    <tr>\n",
       "      <th>18</th>\n",
       "      <td>5</td>\n",
       "      <td>Pavlova</td>\n",
       "    </tr>\n",
       "    <tr>\n",
       "      <th>19</th>\n",
       "      <td>2</td>\n",
       "      <td>Queso Cabrales</td>\n",
       "    </tr>\n",
       "  </tbody>\n",
       "</table>\n",
       "</div>"
      ],
      "text/plain": [
       "    Count                       Product\n",
       "0       2              Boston Crab Meat\n",
       "1       3                         Chais\n",
       "2       4  Chef Anton's Cajun Seasoning\n",
       "3       2                 Côte de Blaye\n",
       "4       1        Escargots de Bourgogne\n",
       "5       3                       Geitost\n",
       "6       2        Gnocchi di nonna Alice\n",
       "7       3             Gorgonzola Telino\n",
       "8       3  Grandma's Boysenberry Spread\n",
       "9       1            Guaraná Fantástica\n",
       "10      2           Gustaf's Knäckebröd\n",
       "11      3                   Inlagd Sill\n",
       "12      3                         Konbu\n",
       "13      3         Manjimup Dried Apples\n",
       "14      3                      Maxilaku\n",
       "15      3               Mishi Kobe Niku\n",
       "16      1         Nord-Ost Matjeshering\n",
       "17      3       NuNuCa Nuß-Nougat-Creme\n",
       "18      5                       Pavlova\n",
       "19      2                Queso Cabrales"
      ]
     },
     "execution_count": 109,
     "metadata": {},
     "output_type": "execute_result"
    }
   ],
   "source": [
    "# TODO: Convert your list of tuples to a dataframe\n",
    "df = pd.DataFrame(Brow, columns=['Count','Product' ])\n",
    "\n",
    "# TODO: Generate a visualization on this dataframe\n",
    "df.head(20)"
   ]
  },
  {
   "cell_type": "markdown",
   "id": "faab5e1c",
   "metadata": {},
   "source": [
    "### Question 5 : Least Popular Products by Revenue\n",
    "\n",
    "What are the least popular products by **total revenue** (order quantity * price)? Sort this table in ascending order and be sure to include the product name in your output and visualizations.\n",
    "\n",
    "**Hint**: You will have to perform a join to calculate this answer."
   ]
  },
  {
   "cell_type": "code",
   "execution_count": null,
   "id": "2d84d2b4",
   "metadata": {},
   "outputs": [],
   "source": [
    "# TODO: Write a SQL query which will answer the question above.\n",
    "...\n",
    "\n",
    "# TODO: Fetch your list of tuples and print it out\n",
    "..."
   ]
  },
  {
   "cell_type": "code",
   "execution_count": null,
   "id": "d22296d4",
   "metadata": {},
   "outputs": [],
   "source": [
    "# TODO: Convert your list of tuples to a dataframe\n",
    "...\n",
    "\n",
    "# TODO: Generate a visualization on this dataframe\n",
    "..."
   ]
  },
  {
   "cell_type": "markdown",
   "id": "81d0606f",
   "metadata": {},
   "source": [
    "### Question 6 : Countries with the Most Orders\n",
    "\n",
    "Which country's have placed the most orders? For each country, list its' name in your output and visualizations.\n",
    "\n",
    "**Hint**: You will have to perform a join to calculate this answer."
   ]
  },
  {
   "cell_type": "code",
   "execution_count": null,
   "id": "548ba970",
   "metadata": {},
   "outputs": [],
   "source": [
    "# TODO: Write a SQL query which will answer the question above.\n",
    "...\n",
    "\n",
    "# TODO: Fetch your list of tuples and print it out\n",
    "..."
   ]
  },
  {
   "cell_type": "code",
   "execution_count": null,
   "id": "a825aa06",
   "metadata": {},
   "outputs": [],
   "source": [
    "# TODO: Convert your list of tuples to a dataframe\n",
    "...\n",
    "\n",
    "# TODO: Generate a visualization on this dataframe\n",
    "..."
   ]
  },
  {
   "cell_type": "markdown",
   "id": "72c9b165",
   "metadata": {},
   "source": [
    "### Question 7 : Countries with Customers Who Do Not Order\n",
    "\n",
    "Which countries have at least one customer who has placed **no** orders? Count up the total number of customers who have placed no orders for each respective country. For each country, list its' name in your output and visualizations.\n",
    "\n",
    "**Hint**: A join is necessary. We can also check if a column is `NULL` using the `IS` keyword."
   ]
  },
  {
   "cell_type": "code",
   "execution_count": null,
   "id": "ea327c53",
   "metadata": {},
   "outputs": [],
   "source": [
    "# TODO: Write a SQL query which will answer the question above.\n",
    "...\n",
    "\n",
    "# TODO: Fetch your list of tuples and print it out\n",
    "..."
   ]
  },
  {
   "cell_type": "code",
   "execution_count": null,
   "id": "ba356a26",
   "metadata": {},
   "outputs": [],
   "source": [
    "# TODO: Convert your list of tuples to a dataframe\n",
    "...\n",
    "\n",
    "# TODO: Generate a visualization on this dataframe\n",
    "..."
   ]
  },
  {
   "cell_type": "markdown",
   "id": "679892a1",
   "metadata": {},
   "source": [
    "### Question 8 : Most Popular Suppliers\n",
    "\n",
    "What are the most popular suppliers according to order count? List the supplier names and their number of orders. Sort your output in descending order.\n",
    "\n",
    "**Hint**: You might need to use a subquery to join more than 2 tables together."
   ]
  },
  {
   "cell_type": "code",
   "execution_count": null,
   "id": "0f834d94",
   "metadata": {},
   "outputs": [],
   "source": [
    "# TODO: Write a SQL query which will answer the question above.\n",
    "...\n",
    "\n",
    "# TODO: Fetch your list of tuples and print it out\n",
    "..."
   ]
  },
  {
   "cell_type": "code",
   "execution_count": null,
   "id": "95621abb",
   "metadata": {},
   "outputs": [],
   "source": [
    "# TODO: Convert your list of tuples to a dataframe\n",
    "...\n",
    "\n",
    "# TODO: Generate a visualization on this dataframe\n",
    "..."
   ]
  },
  {
   "cell_type": "markdown",
   "id": "1b48d365",
   "metadata": {},
   "source": [
    "## Report\n",
    "\n",
    "Answer the following analytical questions using numerical evidence."
   ]
  },
  {
   "cell_type": "markdown",
   "id": "8a98935f",
   "metadata": {},
   "source": [
    "### Question 1\n",
    "\n",
    "Which countries have the greatest number of customers? How does this correlate with the number of suppliers by country (i.e. do more customers lead to less or more suppliers)? Which evidence supports your answer?\n",
    "\n",
    "[Answer Here]"
   ]
  },
  {
   "cell_type": "markdown",
   "id": "1b5d6703",
   "metadata": {},
   "source": [
    "### Question 2\n",
    "\n",
    "What is the least popular product by order quantity? How does this correlate with revenue (i.e. do less popular products by quantity lead to less or more revenue)? Which evidence supports your answer?\n",
    "\n",
    "[Answer Here]"
   ]
  },
  {
   "cell_type": "markdown",
   "id": "29c46ddc",
   "metadata": {},
   "source": [
    "### Question 3\n",
    "\n",
    "Which country has the most orders? How does this correlate with the number of customers who do not order (i.e. do countries with more ordering customers have more or less non-ordering customers)? Which evidence supports your answer?\n",
    "\n",
    "[Answer Here]"
   ]
  },
  {
   "cell_type": "markdown",
   "id": "d3b8df87",
   "metadata": {},
   "source": [
    "### Question 4\n",
    "\n",
    "Which supplier has the most orders? Which evidence supports your answer?\n",
    "\n",
    "[Answer Here]"
   ]
  }
 ],
 "metadata": {
  "kernelspec": {
   "display_name": "base",
   "language": "python",
   "name": "python3"
  },
  "language_info": {
   "codemirror_mode": {
    "name": "ipython",
    "version": 3
   },
   "file_extension": ".py",
   "mimetype": "text/x-python",
   "name": "python",
   "nbconvert_exporter": "python",
   "pygments_lexer": "ipython3",
   "version": "3.12.9"
  }
 },
 "nbformat": 4,
 "nbformat_minor": 5
}
